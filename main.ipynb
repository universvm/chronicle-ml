{
 "cells": [
  {
   "cell_type": "code",
   "execution_count": 2,
   "metadata": {
    "pycharm": {
     "is_executing": false
    }
   },
   "outputs": [],
   "source": [
    "import numpy as np\n",
    "import pandas as pd "
   ]
  },
  {
   "cell_type": "code",
   "execution_count": 3,
   "metadata": {
    "pycharm": {
     "is_executing": false
    }
   },
   "outputs": [],
   "source": [
    "# import condition \n",
    "import os\n",
    "\n",
    "# Extension of files needed:\n",
    "ext = '.csv'\n",
    "def import_data(ext, dir_path):\n",
    "    # Conditions \n",
    "    condition = []\n",
    "    \n",
    "    # Loop through files: \n",
    "    for (dirpath, dirnames, filenames) in os.walk(dir_path):\n",
    "\n",
    "        # Loop through Annotations:\n",
    "        for i in range(len(filenames)):\n",
    "            # Open files of interest:\n",
    "            if filenames[i].startswith('.'):\n",
    "                continue\n",
    "            elif filenames[i].endswith(ext):\n",
    "                # Read CSV\n",
    "                current_activity = pd.read_csv(os.path.join(dirpath, filenames[i]))['activity']\n",
    "                # Convert to numpy + Append to conditions \n",
    "                condition.append(current_activity.to_list())\n",
    "    return condition"
   ]
  },
  {
   "cell_type": "code",
   "execution_count": 4,
   "metadata": {
    "pycharm": {
     "is_executing": false
    }
   },
   "outputs": [],
   "source": [
    "# Directory of interest:\n",
    "condition_path = 'condition/'\n",
    "control_path = 'control/'\n",
    "\n",
    "control = import_data(ext, control_path)\n",
    "control_label = [False]*len(control)\n",
    "condition = import_data(ext, condition_path)\n",
    "condition_label = [True]*len(condition)"
   ]
  },
  {
   "cell_type": "code",
   "execution_count": 5,
   "metadata": {
    "collapsed": false,
    "jupyter": {
     "outputs_hidden": false
    },
    "pycharm": {
     "is_executing": false,
     "name": "#%%\n"
    }
   },
   "outputs": [],
   "source": [
    "inputData = control+condition\n",
    "outputData = control_label+condition_label"
   ]
  },
  {
   "cell_type": "code",
   "execution_count": 6,
   "metadata": {
    "pycharm": {
     "is_executing": false
    }
   },
   "outputs": [
    {
     "name": "stdout",
     "output_type": "stream",
     "text": [
      "55\n",
      "55\n"
     ]
    }
   ],
   "source": [
    "from keras.utils import to_categorical\n",
    "\n",
    "\n",
    "longest = max([len(x) for x in inputData])\n",
    "\n",
    "inputData = np.array([[0]*(longest-len(x)) + x for x in inputData])\n",
    "outputData = np.array(to_categorical(outputData))\n",
    "\n",
    "\n",
    "print(len(inputData))\n",
    "print(len(outputData))"
   ]
  },
  {
   "cell_type": "code",
   "execution_count": 7,
   "metadata": {
    "pycharm": {
     "is_executing": false
    }
   },
   "outputs": [],
   "source": [
    "from sklearn.model_selection import train_test_split\n",
    "\n",
    "\n",
    "# Split data into training:\n",
    "X_train, X_test, y_train, y_test = train_test_split(inputData, outputData,\n",
    "                                                    test_size=0.25,\n",
    "                                                    random_state=42)\n"
   ]
  },
  {
   "cell_type": "code",
   "execution_count": 8,
   "metadata": {},
   "outputs": [
    {
     "name": "stdout",
     "output_type": "stream",
     "text": [
      "(41, 65407, 1)\n"
     ]
    }
   ],
   "source": [
    "\n",
    "X_train = X_train.reshape(X_train.shape[0], X_train.shape[1], 1)\n",
    "X_test = X_test.reshape(X_test.shape[0], X_test.shape[1], 1)\n",
    "\n",
    "\n",
    "print(X_train.shape)"
   ]
  },
  {
   "cell_type": "code",
   "execution_count": null,
   "metadata": {
    "pycharm": {
     "is_executing": false
    }
   },
   "outputs": [
    {
     "name": "stdout",
     "output_type": "stream",
     "text": [
      "Train on 41 samples, validate on 14 samples\n",
      "Epoch 1/5\n",
      "41/41 [==============================] - 183s 4s/step - loss: 6.8524 - acc: 0.4878 - val_loss: 4.6052 - val_acc: 0.7143\n",
      "Epoch 2/5\n",
      "41/41 [==============================] - 263s 6s/step - loss: 5.8969 - acc: 0.6341 - val_loss: 4.6052 - val_acc: 0.7143\n",
      "Epoch 3/5\n",
      "41/41 [==============================] - 236s 6s/step - loss: 3.5381 - acc: 0.7805 - val_loss: 4.6052 - val_acc: 0.7143\n",
      "Epoch 4/5\n",
      "41/41 [==============================] - 262s 6s/step - loss: 5.8969 - acc: 0.6341 - val_loss: 4.6052 - val_acc: 0.7143\n",
      "Epoch 5/5\n"
     ]
    }
   ],
   "source": [
    "from keras.layers.core import Dense, Dropout\n",
    "from keras.models import Sequential\n",
    "from keras.layers import Conv1D, MaxPooling1D\n",
    "from keras.layers import Flatten\n",
    "import keras\n",
    "\n",
    "classes = 1\n",
    "\n",
    "model_name = 'stock_price_CNN'\n",
    "\n",
    "model = Sequential()\n",
    "model.add(Conv1D(256, kernel_size=3,\n",
    "                 activation='relu',\n",
    "                 input_shape=(X_train.shape[1], X_train.shape[2] )))\n",
    "model.add(MaxPooling1D(pool_size=2))\n",
    "model.add(Flatten())\n",
    "model.add(Dense(128, activation='relu'))\n",
    "model.add(Dropout(0.5))\n",
    "\n",
    "model.add(Dense(2, activation='softmax'))\n",
    "\n",
    "model.compile(loss=keras.losses.categorical_crossentropy,\n",
    "              optimizer=keras.optimizers.Adadelta(),\n",
    "              metrics=['accuracy'])\n",
    "\n",
    "model.fit(X_train, y_train,\n",
    "          batch_size=50,\n",
    "          epochs=1,\n",
    "          verbose=1,\n",
    "          validation_data=(X_test, y_test))\n",
    "\n",
    "score = model.evaluate(X_test, y_test, verbose=1)\n",
    "print('Test loss:', score[0])\n",
    "print('Test accuracy:', score[1])"
   ]
  },
  {
   "cell_type": "code",
   "execution_count": null,
   "metadata": {
    "collapsed": false,
    "jupyter": {
     "outputs_hidden": false
    },
    "pycharm": {
     "name": "#%%\n"
    }
   },
   "outputs": [],
   "source": [
    "\n",
    "from keras.applications import Xception\n",
    "from keras.layers import Dense, Flatten, Input\n",
    "from keras.layers.convolutional import Conv2D\n",
    "from keras.layers.pooling import MaxPooling2D, GlobalAveragePooling2D\n",
    "from keras.models import Model, Sequential\n",
    "\n",
    "\n",
    "def convolve(input_layer, conv_depth, kernel_size, pool_size):\n",
    "    \"\"\" Perform 3 convolutions + down pool\"\"\"\n",
    "\n",
    "    conv_1 = Conv2D(conv_depth, (kernel_size, kernel_size),\n",
    "                    padding='same', activation='relu')(input_layer)\n",
    "    conv_2 = Conv2D(conv_depth, (kernel_size, kernel_size),\n",
    "                    padding='same', activation='relu')(conv_1)\n",
    "    conv_3 = Conv2D(conv_depth, (kernel_size, kernel_size),\n",
    "                    padding='same', activation='relu')(conv_2)\n",
    "\n",
    "    return MaxPooling2D(pool_size=(pool_size, pool_size))(conv_3)\n",
    "\n",
    "\n",
    "\n",
    "def build_network(inp_shape, num_classes, optimizer, loss_func, metrics):\n",
    "    \"\"\" Main CNN to predict flat or not_flat  \"\"\"\n",
    "\n",
    "    model = Sequential()\n",
    "    model.add(Xception(weights='imagenet', input_shape=inp_shape,\n",
    "                       classes=num_classes, include_top=False))\n",
    "    model.add(Flatten())\n",
    "    model.add(Dense(num_classes, activation='softmax'))\n",
    "    model.compile(loss=loss_func, optimizer=optimizer, metrics=metrics)\n",
    "\n",
    "    # Output summary:\n",
    "    print(model.summary())\n",
    "\n",
    "    return model"
   ]
  }
 ],
 "metadata": {
  "kernelspec": {
   "display_name": "Python 3",
   "language": "python",
   "name": "python3"
  },
  "language_info": {
   "codemirror_mode": {
    "name": "ipython",
    "version": 3
   },
   "file_extension": ".py",
   "mimetype": "text/x-python",
   "name": "python",
   "nbconvert_exporter": "python",
   "pygments_lexer": "ipython3",
   "version": "3.6.5"
  },
  "pycharm": {
   "stem_cell": {
    "cell_type": "raw",
    "metadata": {
     "collapsed": false
    },
    "source": []
   }
  }
 },
 "nbformat": 4,
 "nbformat_minor": 4
}
